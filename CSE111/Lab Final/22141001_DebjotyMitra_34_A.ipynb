{
 "cells": [
  {
   "cell_type": "code",
   "execution_count": 2,
   "metadata": {},
   "outputs": [
    {
     "name": "stdout",
     "output_type": "stream",
     "text": [
      "Number of candidates: {}\n",
      "Candidates Database: 0\n",
      "#################################\n",
      "---Details of the candidate---\n",
      "Name: Mia Divia Yang\n",
      "Address: 9303 Buttonwood Ave. Hope Mills, NC 28348\n",
      "Phone No: (440) 988-4567\n",
      "Experience: 30\n",
      "Date of Birth: 2/1/1960\n",
      "Programming Languages: Python,Java\n",
      "#################################\n",
      "---Details of the candidate---\n",
      "Name: Calvin F. Alvarez\n",
      "Address: 799 Lake Floyd Circle Newark, DE 19714\n",
      "Phone No: (1) 302-246-4718\n",
      "Experience: 31\n",
      "Date of Birth: June 23, 1962\n",
      "Programming Languages: Python\n",
      "#################################\n",
      "---Details of the candidate---\n",
      "Name: Theresa J. Barone\n",
      "Address: 500 Ben Street North Greenbush, NY 12144\n",
      "Phone No: (1) 518-225-3077\n",
      "Experience: 23\n",
      "Date of Birth: 13/4/1976\n",
      "Programming Languages: Python,Java,C++\n",
      "#################################\n",
      "Number of candidates: 3\n",
      "Candidates Database: {'2022C-1': ['Mia Divia Yang', '9303 Buttonwood Ave. Hope Mills, NC 28348', '(440) 988-4567', 30, '2/1/1960', 'Python', 'Java'], '2022C-2': ['Calvin F. Alvarez', '799 Lake Floyd Circle Newark, DE 19714', '(1) 302-246-4718', 31, 'June 23, 1962', 'Python'], '2022C-3': ['Theresa J. Barone', '500 Ben Street North Greenbush, NY 12144', '(1) 518-225-3077', 23, '13/4/1976', 'Python', 'Java', 'C++']}\n"
     ]
    }
   ],
   "source": [
    "class Candidates:\n",
    "    candidates={}\n",
    "    candidateNo = 0\n",
    "    def __init__(self,name,add,phoneNo,exp,dob):\n",
    "        self.name = name\n",
    "        self.address = add\n",
    "        self.phoneNo = phoneNo\n",
    "        self.experience = exp\n",
    "        self.dateOfBirth = dob\n",
    "      \n",
    "    def addCandidate(self,info):\n",
    "        Candidates.candidates[self.ID]= info\n",
    "    def __str__(self):\n",
    "        return \"Name: {}\\nAddress: {}\\nPhone No: {}\\nExperience: {}\\nDate of Birth: {}\".format(self.name,self.address,self.phoneNo,self.experience,self.dateOfBirth)\n",
    "\n",
    "class Candidates_2022(Candidates):\n",
    "    def __init__(self,name,add,phoneNo,exp,dob,*langs):\n",
    "        super().__init__(name,add,phoneNo,exp,dob)\n",
    "        self.langs = langs\n",
    "        Candidates.candidateNo+=1\n",
    "        lst = [name,add,phoneNo,exp,dob]\n",
    "        for l in langs:\n",
    "            lst.append(l)\n",
    "            \n",
    "        self.ID = str(\"2022C-\"+str(Candidates.candidateNo))\n",
    "        super().addCandidate(lst)\n",
    "    \n",
    "    def createCandidate(self,name,add,phoneNo,exp,dob,*langs):\n",
    "        return Candidates_2022(self,name,add,phoneNo,exp,dob,*langs)\n",
    "    \n",
    "    def __str__(self):\n",
    "        tempLangs = \"\"\n",
    "        for lang in self.langs:\n",
    "            tempLangs = tempLangs+lang+','\n",
    "        return \"Name: {}\\nAddress: {}\\nPhone No: {}\\nExperience: {}\\nDate of Birth: {}\\nProgramming Languages: {}\".format(self.name,self.address,self.phoneNo,self.experience,self.dateOfBirth,tempLangs[:-1])\n",
    "\n",
    "print(\"Number of candidates:\",Candidates.candidates)\n",
    "print(\"Candidates Database:\",Candidates.candidateNo)\n",
    "print(\"#################################\")\n",
    "c1 = Candidates_2022(\"Mia Divia Yang\",\"9303 Buttonwood Ave. Hope Mills, NC 28348\",\"(440) 988-4567\",30,\"2/1/1960\",\"Python\",\"Java\")\n",
    "print(\"---Details of the candidate---\")\n",
    "print(c1)\n",
    "print(\"#################################\")\n",
    "c2 = Candidates_2022.createCandidate(\"Calvin F. Alvarez\",\"799 Lake Floyd Circle Newark, DE 19714\",\"(1) 302-246-4718\",31,\"June 23, 1962\",\"Python\")\n",
    "print(\"---Details of the candidate---\")\n",
    "print(c2)\n",
    "print(\"#################################\")\n",
    "c3 = Candidates_2022(\"Theresa J. Barone\",\"500 Ben Street North Greenbush, NY 12144\",\"(1) 518-225-3077\", 23,\"13/4/1976\",\"Python\",\"Java\",\"C++\")\n",
    "print(\"---Details of the candidate---\")\n",
    "print(c3)\n",
    "print(\"#################################\")\n",
    "print(\"Number of candidates:\",Candidates.candidateNo)\n",
    "print(\"Candidates Database:\",Candidates.candidates)"
   ]
  }
 ],
 "metadata": {
  "kernelspec": {
   "display_name": "Python 3.10.6 64-bit",
   "language": "python",
   "name": "python3"
  },
  "language_info": {
   "codemirror_mode": {
    "name": "ipython",
    "version": 3
   },
   "file_extension": ".py",
   "mimetype": "text/x-python",
   "name": "python",
   "nbconvert_exporter": "python",
   "pygments_lexer": "ipython3",
   "version": "3.10.6"
  },
  "orig_nbformat": 4,
  "vscode": {
   "interpreter": {
    "hash": "916dbcbb3f70747c44a77c7bcd40155683ae19c65e1c03b4aa3499c5328201f1"
   }
  }
 },
 "nbformat": 4,
 "nbformat_minor": 2
}
