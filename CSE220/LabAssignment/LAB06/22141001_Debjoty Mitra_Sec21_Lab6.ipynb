{
 "cells": [
  {
   "cell_type": "code",
   "execution_count": 71,
   "metadata": {},
   "outputs": [
    {
     "data": {
      "text/plain": [
       "120"
      ]
     },
     "execution_count": 71,
     "metadata": {},
     "output_type": "execute_result"
    }
   ],
   "source": [
    "#1a\n",
    "\n",
    "def fact(n):\n",
    "    if n==1:\n",
    "        return 1\n",
    "    return n*fact(n-1)\n",
    "\n",
    "fact(5)"
   ]
  },
  {
   "cell_type": "code",
   "execution_count": 72,
   "metadata": {},
   "outputs": [
    {
     "data": {
      "text/plain": [
       "5"
      ]
     },
     "execution_count": 72,
     "metadata": {},
     "output_type": "execute_result"
    }
   ],
   "source": [
    "#1b\n",
    "\n",
    "def fibo(n):\n",
    "    if n==1:\n",
    "        return 0\n",
    "    elif n==1:\n",
    "        return 1\n",
    "    elif n==2:\n",
    "        return 1\n",
    "    return fibo(n-1)+fibo(n-2)\n",
    "\n",
    "fibo(6)"
   ]
  },
  {
   "cell_type": "code",
   "execution_count": 73,
   "metadata": {},
   "outputs": [
    {
     "name": "stdout",
     "output_type": "stream",
     "text": [
      "1\n",
      "2\n",
      "3\n",
      "4\n",
      "5\n"
     ]
    }
   ],
   "source": [
    "#1c\n",
    "\n",
    "def array_print(arr, i):\n",
    "    if i >= len(arr):\n",
    "        return\n",
    "    print(arr[i])\n",
    "    array_print(arr, i+1)\n",
    "\n",
    "arr = [1,2,3,4,5]\n",
    "array_print(arr, 0)\n"
   ]
  },
  {
   "cell_type": "code",
   "execution_count": 74,
   "metadata": {},
   "outputs": [
    {
     "name": "stdout",
     "output_type": "stream",
     "text": [
      "8\n"
     ]
    }
   ],
   "source": [
    "#1d\n",
    "\n",
    "def pow_n(base, n):\n",
    "    if n == 0:\n",
    "        return 1\n",
    "    elif n % 2 == 1:\n",
    "        return base * pow_n(base, n-1)\n",
    "    else:\n",
    "        return pow_n(base, n/2) ** 2\n",
    "\n",
    "print(pow_n(2,3))"
   ]
  },
  {
   "cell_type": "code",
   "execution_count": 2,
   "metadata": {},
   "outputs": [
    {
     "name": "stdout",
     "output_type": "stream",
     "text": [
      "8\n"
     ]
    }
   ],
   "source": [
    "# TEMPPPPPPPPPPPPPPPPPPPPPPPPPPPPPP\n",
    "\n",
    "def ppppppp(base, n):\n",
    "    if n==1:\n",
    "        return base\n",
    "    return base * ppppppp(base, n-1)\n",
    "\n",
    "print(ppppppp(2,3))"
   ]
  },
  {
   "cell_type": "code",
   "execution_count": 75,
   "metadata": {},
   "outputs": [
    {
     "name": "stdout",
     "output_type": "stream",
     "text": [
      "101010\n"
     ]
    }
   ],
   "source": [
    "#2a\n",
    "\n",
    "def binary(n):\n",
    "    if n == 0:\n",
    "        return \"0\"\n",
    "    elif n == 1:\n",
    "        return \"1\"\n",
    "    elif n % 2 == 0:\n",
    "        return binary(n//2)+\"0\"\n",
    "    else:\n",
    "        return binary((n-1)//2)+\"1\"\n",
    "\n",
    "print(binary(42))"
   ]
  },
  {
   "cell_type": "code",
   "execution_count": 76,
   "metadata": {},
   "outputs": [
    {
     "name": "stdout",
     "output_type": "stream",
     "text": [
      "10\n"
     ]
    }
   ],
   "source": [
    "#2b\n",
    "\n",
    "class Node:\n",
    "    def __init__(self, data):\n",
    "        self.data = data\n",
    "        self.next = None\n",
    "\n",
    "def add(head):\n",
    "    if head == None:\n",
    "        return 0\n",
    "    else:\n",
    "        return head.data + add(head.next)\n",
    "\n",
    "\n",
    "head = Node(1)\n",
    "head.next = Node(2)\n",
    "head.next.next = Node(3)\n",
    "head.next.next.next = Node(4)\n",
    "\n",
    "total = add(head)\n",
    "\n",
    "print(total)\n"
   ]
  },
  {
   "cell_type": "code",
   "execution_count": 77,
   "metadata": {},
   "outputs": [
    {
     "name": "stdout",
     "output_type": "stream",
     "text": [
      "4 3 2 1 "
     ]
    }
   ],
   "source": [
    "#2c\n",
    "\n",
    "class Node:\n",
    "    def __init__(self, data):\n",
    "        self.data = data\n",
    "        self.next = None\n",
    "\n",
    "def reverse(head):\n",
    "    if head:\n",
    "        reverse(head.next)\n",
    "        print(head.data, end=' ')\n",
    "\n",
    "\n",
    "head = Node(1)\n",
    "head.next = Node(2)\n",
    "head.next.next = Node(3)\n",
    "head.next.next.next = Node(4)\n",
    "\n",
    "reverse(head)\n"
   ]
  },
  {
   "cell_type": "code",
   "execution_count": 78,
   "metadata": {},
   "outputs": [
    {
     "data": {
      "text/plain": [
       "0"
      ]
     },
     "execution_count": 78,
     "metadata": {},
     "output_type": "execute_result"
    }
   ],
   "source": [
    "#3\n",
    "\n",
    "def hocBuilder(height):\n",
    "    if height == 1:\n",
    "        return 8\n",
    "    elif height==0:\n",
    "        return 0\n",
    "    else:\n",
    "        return 5+hocBuilder(height-1)\n",
    "\n",
    "hocBuilder(0)\n",
    "\n"
   ]
  },
  {
   "cell_type": "code",
   "execution_count": 79,
   "metadata": {},
   "outputs": [
    {
     "name": "stdout",
     "output_type": "stream",
     "text": [
      "1 \n",
      "1 2 \n",
      "1 2 3 \n",
      "1 2 3 4 \n",
      "1 2 3 4 5 \n"
     ]
    }
   ],
   "source": [
    "#4a\n",
    "\n",
    "def printRow(n):\n",
    "    if n==0:\n",
    "        return 0\n",
    "    printRow(n-1)\n",
    "    print(n, end=' ')\n",
    "\n",
    "def pattern(n):\n",
    "    if(n==0):\n",
    "        return\n",
    "    pattern(n-1)\n",
    "    printRow(n)\n",
    "    print()\n",
    "\n",
    "pattern(5)"
   ]
  },
  {
   "cell_type": "code",
   "execution_count": 80,
   "metadata": {},
   "outputs": [
    {
     "name": "stdout",
     "output_type": "stream",
     "text": [
      "        1 \n",
      "      1 2 \n",
      "    1 2 3 \n",
      "  1 2 3 4 \n",
      "1 2 3 4 5 \n"
     ]
    }
   ],
   "source": [
    "#4b\n",
    "\n",
    "def printSpace(n):\n",
    "    if n==0:\n",
    "        return\n",
    "    print(\" \", end=\" \")\n",
    "    printSpace(n-1)\n",
    "\n",
    "def printRow(n):\n",
    "    if n==0:\n",
    "        return 0\n",
    "    \n",
    "\n",
    "    printRow(n-1)\n",
    "    print(n, end=' ')\n",
    "\n",
    "def pattern(n,i):\n",
    "    if(n==0):\n",
    "        return\n",
    "    \n",
    "    printSpace(n-1)\n",
    "    printRow(i-n+1)\n",
    "    print()\n",
    "\n",
    "    pattern(n-1, i)\n",
    "\n",
    "pattern(5,5)"
   ]
  },
  {
   "cell_type": "code",
   "execution_count": 81,
   "metadata": {},
   "outputs": [
    {
     "name": "stdout",
     "output_type": "stream",
     "text": [
      "Investment: 25000; Profit: 0.0 \n",
      "Investment: 100000; Profit: 3375.0 \n",
      "Investment: 250000; Profit: 15375.0 \n",
      "Investment: 350000; Profit: 23375.0 \n"
     ]
    }
   ],
   "source": [
    "# 5\n",
    "\n",
    "import sys\n",
    "sys.setrecursionlimit(10**6)\n",
    "\n",
    "\n",
    "class FinalQ:\n",
    "    def print(self, array, idx):\n",
    "        if idx < len(array):\n",
    "            profit = self.calcProfit(array[idx])\n",
    "            print(f\"Investment: {array[idx]}; Profit: {profit} \")\n",
    "            self.print(array, idx + 1)\n",
    "\n",
    "    def calcProfit(self, investment):\n",
    "        if investment == 25000:\n",
    "            return 0.0\n",
    "        if investment <= 100000:\n",
    "            return 4.5 + self.calcProfit(investment - 100)\n",
    "        return 8 + self.calcProfit(investment - 100)\n",
    "\n",
    "array = [25000, 100000, 250000, 350000]\n",
    "f = FinalQ()\n",
    "f.print(array, 0)\n"
   ]
  },
  {
   "cell_type": "code",
   "execution_count": 82,
   "metadata": {},
   "outputs": [
    {
     "name": "stdout",
     "output_type": "stream",
     "text": [
      "[1, 2, 3, 4, 5, 6, 7, 8, 9, 10, 11, 12, 13, 14, 15, 16, 17]\n"
     ]
    }
   ],
   "source": [
    "def flattenList(given_list, output_list):\n",
    "    for i in given_list:\n",
    "        if type(i) == list:\n",
    "            flattenList(i, output_list)\n",
    "        else:\n",
    "            output_list.append(i)\n",
    "    return output_list\n",
    "\n",
    "given_list = [1, [2, [3, [4], 5], 6], 7, 8, [9, [[10, 11], 12], 13], 14, [15, [16, [17]]]]\n",
    "output_list = flattenList(given_list, [])\n",
    "# output_list = [1, 2, 3, 4, 5, 6, 7, 8, 9, 10, 11, 12, 13, 14, 15, 16, 17]\n",
    "\n",
    "print(output_list)"
   ]
  }
 ],
 "metadata": {
  "kernelspec": {
   "display_name": "Python 3",
   "language": "python",
   "name": "python3"
  },
  "language_info": {
   "codemirror_mode": {
    "name": "ipython",
    "version": 3
   },
   "file_extension": ".py",
   "mimetype": "text/x-python",
   "name": "python",
   "nbconvert_exporter": "python",
   "pygments_lexer": "ipython3",
   "version": "3.11.2"
  },
  "orig_nbformat": 4
 },
 "nbformat": 4,
 "nbformat_minor": 2
}
