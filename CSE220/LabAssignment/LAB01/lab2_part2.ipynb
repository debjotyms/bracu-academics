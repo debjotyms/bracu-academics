{
 "cells": [
  {
   "cell_type": "code",
   "execution_count": null,
   "metadata": {
    "collapsed": true
   },
   "outputs": [],
   "source": [
    "def mean(a):\n",
    "    sum=0\n",
    "    for i in range(len(a)):\n",
    "        sum+=a[i]\n",
    "    return sum/len(a)"
   ]
  },
  {
   "cell_type": "code",
   "execution_count": null,
   "outputs": [],
   "source": [
    "def stad(a):\n",
    "    m=mean(a)\n",
    "    sum=0\n",
    "    for i in range(len(a)):\n",
    "        sum+=(((a[i]-m)**2)/(len(a)-1))\n",
    "    return sum**0.5"
   ],
   "metadata": {
    "collapsed": false
   }
  },
  {
   "cell_type": "code",
   "execution_count": null,
   "outputs": [],
   "source": [
    "a = [10, 8, 13, 9, 14, 25, -5, 20, 7, 7, 4]\n",
    "mean(a)"
   ],
   "metadata": {
    "collapsed": false
   }
  }
 ],
 "metadata": {
  "kernelspec": {
   "display_name": "Python 3",
   "language": "python",
   "name": "python3"
  },
  "language_info": {
   "codemirror_mode": {
    "name": "ipython",
    "version": 2
   },
   "file_extension": ".py",
   "mimetype": "text/x-python",
   "name": "python",
   "nbconvert_exporter": "python",
   "pygments_lexer": "ipython2",
   "version": "2.7.6"
  }
 },
 "nbformat": 4,
 "nbformat_minor": 0
}
