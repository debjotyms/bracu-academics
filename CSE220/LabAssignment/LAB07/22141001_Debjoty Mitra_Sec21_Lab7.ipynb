{
 "cells": [
  {
   "cell_type": "code",
   "execution_count": 9,
   "metadata": {},
   "outputs": [
    {
     "name": "stdout",
     "output_type": "stream",
     "text": [
      "7\n",
      "-9\n",
      "[5, 16, 12, 12, 13, 11, 0, 2]\n",
      "[0, 0, 0, 0, 0, 0, 0, 0, 0, 0, 0, 0, 0, 0, 0, 0, 0]\n",
      "[1, 0, 1, 0, 0, 1, 0, 0, 0, 0, 0, 1, 2, 1, 0, 0, 1]\n",
      "True\n",
      "[-9, -7, -4, 2, 3, 4, 7]\n",
      "[5, 16, 12, 12, 13, 11, 0, 2]\n"
     ]
    }
   ],
   "source": [
    "class KeyIndex:\n",
    "   def __init__(self, a):\n",
    "      mx = a[0]\n",
    "      mn = a[0]\n",
    "      for i in a:\n",
    "         if i > mx:\n",
    "           mx = i\n",
    "         if i < mn:\n",
    "           mn = i\n",
    "      print(mx)\n",
    "      print(mn)\n",
    "      if mn < 0:\n",
    "         self.add = mn * -1\n",
    "      else:\n",
    "         self.add = 0\n",
    "      for i in range(len(a)):\n",
    "         a[i] = a[i] + self.add\n",
    "      \n",
    "      print(a)\n",
    "\n",
    "      self.a_size = self.add + mx + 1\n",
    "      self.k = [0] * self.a_size\n",
    "\n",
    "      print(self.k)\n",
    "      \n",
    "      for i in a:\n",
    "         self.k[i] += 1\n",
    "      \n",
    "      print((self.k))\n",
    "\n",
    "   def search(self, data):\n",
    "      if data + self.add >= self.a_size:\n",
    "         return False\n",
    "      elif self.k[data + self.add] > 0:\n",
    "         return True\n",
    "      else:\n",
    "         return False\n",
    "   \n",
    "   def sort(self):\n",
    "      s_arr = []\n",
    "      for i in range(len(self.k)):\n",
    "         if self.k[i] > 0:\n",
    "            s_arr.append(i - self.add)\n",
    "      return s_arr\n",
    "\n",
    "\n",
    "a = [-4, 7, 3, 3, 4, 2, -9, -7]\n",
    "ix = KeyIndex(a)\n",
    "print(ix.search(4))\n",
    "print(ix.sort())\n",
    "print(a)"
   ]
  },
  {
   "cell_type": "code",
   "execution_count": 7,
   "metadata": {},
   "outputs": [
    {
     "name": "stdout",
     "output_type": "stream",
     "text": [
      "['STVOP00123B', 'DGG94F5SMC2', 'KOLNX46TT21', '567MONDAY98', 'ST1E89B8A32', 'NDT89I7DN7V', 'MJE537KLOST', 'WN2NY5422FD', '9XZAR2J6F7D']\n"
     ]
    }
   ],
   "source": [
    "# Task 2\n",
    "def hash(a, b):\n",
    "  c = 0\n",
    "  n = 0\n",
    "  for i in range(len(b)):\n",
    "    if 48 <= ord(b[i]) <= 57:\n",
    "      n += int(b[i])\n",
    "    elif b[i] != 'A' and b[i] != \"E\" and b[i] != 'I' and b[i] != \"O\" and b[i] != \"U\":\n",
    "      c += 1\n",
    "\n",
    "  x = (c * 24 + n) % 9\n",
    "\n",
    "  for i in range(len(a)):\n",
    "    if a[x] == None:\n",
    "      return x\n",
    "    x = (x + 1) % len(a)\n",
    "\n",
    "\n",
    "def create_hash_table(a):\n",
    "  h = [None] * 9\n",
    "\n",
    "  for i in a:\n",
    "    x = hash(h, i)\n",
    "    if x != None:\n",
    "      h[x] = i\n",
    "  return h\n",
    "\n",
    "a = [\"ST1E89B8A32\",\"MJE537KLOST\",\"WN2NY5422FD\",\"STVOP00123B\", \"9XZAR2J6F7D\",\"DGG94F5SMC2\",\"NDT89I7DN7V\",\"KOLNX46TT21\",\"567MONDAY98\"]\n",
    "\n",
    "h = create_hash_table(a)\n",
    "\n",
    "print(h)\n"
   ]
  },
  {
   "cell_type": "code",
   "execution_count": null,
   "metadata": {},
   "outputs": [],
   "source": []
  }
 ],
 "metadata": {
  "kernelspec": {
   "display_name": "Python 3",
   "language": "python",
   "name": "python3"
  },
  "language_info": {
   "codemirror_mode": {
    "name": "ipython",
    "version": 3
   },
   "file_extension": ".py",
   "mimetype": "text/x-python",
   "name": "python",
   "nbconvert_exporter": "python",
   "pygments_lexer": "ipython3",
   "version": "3.11.2"
  },
  "orig_nbformat": 4,
  "vscode": {
   "interpreter": {
    "hash": "f668cccd90198a080e8f48a32eadb0daea02e2d6d95fde27daed9c9d5976103a"
   }
  }
 },
 "nbformat": 4,
 "nbformat_minor": 2
}
