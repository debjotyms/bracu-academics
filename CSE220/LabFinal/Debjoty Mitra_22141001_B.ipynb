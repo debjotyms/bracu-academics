{
 "cells": [
  {
   "cell_type": "code",
   "execution_count": 1,
   "metadata": {},
   "outputs": [
    {
     "name": "stdout",
     "output_type": "stream",
     "text": [
      "776\n"
     ]
    }
   ],
   "source": [
    "def is_five(n):\n",
    "    if n == 1:\n",
    "        return True\n",
    "    if n % 5 == 0:\n",
    "        return is_five(n/5)\n",
    "    return False\n",
    "\n",
    "def iterate_array(arr, i, sum):\n",
    "    if i < len(arr):\n",
    "        if (arr[i]>=5 and is_five(arr[i]) or arr[i]==1):\n",
    "            sum+=arr[i]\n",
    "        iterate_array(arr, i+1,sum)\n",
    "        if(i==len(arr)-1):\n",
    "            print(sum)\n",
    "    \n",
    "arr = [625, 15,25,225,1,0,125]\n",
    "iterate_array(arr, 0, 0)"
   ]
  }
 ],
 "metadata": {
  "kernelspec": {
   "display_name": "Python 3",
   "language": "python",
   "name": "python3"
  },
  "language_info": {
   "codemirror_mode": {
    "name": "ipython",
    "version": 3
   },
   "file_extension": ".py",
   "mimetype": "text/x-python",
   "name": "python",
   "nbconvert_exporter": "python",
   "pygments_lexer": "ipython3",
   "version": "3.11.2"
  },
  "orig_nbformat": 4
 },
 "nbformat": 4,
 "nbformat_minor": 2
}
